{
 "cells": [
  {
   "cell_type": "markdown",
   "metadata": {},
   "source": [
    "## Introduction\n",
    "\n",
    "In this project, the **Titanic Passenger Data** is analyzed to infer certain characteristics of those who survived the disaster."
   ]
  },
  {
   "cell_type": "markdown",
   "metadata": {},
   "source": [
    "## Dataset\n",
    "\n",
    "The dataset used here has information for 891 out of the 2224 passengers in the Titanic with details such as passenger class *Pclass*, name, sex, age, number of siblings/spouses aboard *SibSp*, number of parents/children aboard *Parch* and whether or not the passenger survived *Survived*. More information about the dataset can be found at [Kaggle](https://www.kaggle.com/c/titanic/data)."
   ]
  },
  {
   "cell_type": "markdown",
   "metadata": {},
   "source": [
    "## Question\n",
    "From the data provided, can we infer possible factors related to a pasenger's survival?"
   ]
  },
  {
   "cell_type": "markdown",
   "metadata": {},
   "source": [
    "## Data Processing\n",
    "\n",
    "The data contains 891 entries and 12 columns as mentioned above. From the information below, it should be noted that the age, cabin and port of embarkation columns don't report the correct number of entries. This is because these information are not supplied or missing for some of the passengers."
   ]
  },
  {
   "cell_type": "code",
   "execution_count": 1,
   "metadata": {
    "collapsed": false
   },
   "outputs": [
    {
     "name": "stdout",
     "output_type": "stream",
     "text": [
      "<class 'pandas.core.frame.DataFrame'>\n",
      "RangeIndex: 891 entries, 0 to 890\n",
      "Data columns (total 12 columns):\n",
      "PassengerId    891 non-null int64\n",
      "Survived       891 non-null int64\n",
      "Pclass         891 non-null int64\n",
      "Name           891 non-null object\n",
      "Sex            891 non-null object\n",
      "Age            714 non-null float64\n",
      "SibSp          891 non-null int64\n",
      "Parch          891 non-null int64\n",
      "Ticket         891 non-null object\n",
      "Fare           891 non-null float64\n",
      "Cabin          204 non-null object\n",
      "Embarked       889 non-null object\n",
      "dtypes: float64(2), int64(5), object(5)\n",
      "memory usage: 66.2+ KB\n"
     ]
    }
   ],
   "source": [
    "import pandas as pd # import the pandas module\n",
    "\n",
    "# read the predowloaded csv\n",
    "titanic_data = pd.read_csv(\"titanic_data.csv\")\n",
    "# print information about the dataframe\n",
    "titanic_data.info()"
   ]
  },
  {
   "cell_type": "markdown",
   "metadata": {},
   "source": [
    "The passenger ID will be used to identify a passenger. The independent variables in this case are sex, age and passenger class. The passenger's survival is the dependent variable to be correlated to these variables. Based on these information, other columns from the dataset are dropped. A new column is added which, groups the passenger age to  different groups. Moreover, survivors are separated from non survivors."
   ]
  },
  {
   "cell_type": "code",
   "execution_count": 148,
   "metadata": {
    "collapsed": false
   },
   "outputs": [],
   "source": [
    "# select the columns needed for the analysis\n",
    "passengers = titanic_data[['PassengerId', 'Survived', \\\n",
    "                           'Pclass', 'Sex', 'Age']]\n",
    "\n",
    "'''\n",
    "return an appropriate group for an input age\n",
    "'''\n",
    "def ageGroup(age):\n",
    "    if (age <= 12):\n",
    "        return 'child'\n",
    "    elif (age <= 25):\n",
    "        return 'youngeradult'\n",
    "    else:\n",
    "        return 'adult'\n",
    "\n",
    "# create an age group column\n",
    "passengers.loc[:,'AgeGroup'] = \\\n",
    "passengers.loc[:,'Age'].apply(ageGroup)\n",
    "\n",
    "# separate the survivors from non survivors\n",
    "survivors = passengers[passengers['Survived']==1]\n",
    "survivors = survivors.drop('Survived', 1)\n",
    "nonsurvivors = passengers[passengers['Survived']==0]\n",
    "nonsurvivors = nonsurvivors.drop('Survived', 1)"
   ]
  },
  {
   "cell_type": "markdown",
   "metadata": {},
   "source": [
    "## Result\n",
    "\n",
    "In terms of gender, about *74%* female survived while only *19%* of the male passengers survived. First class passengers have the highest survival percentage while third class passengers have the lowest, according to the plot shown below. Finally, most of the children survived the disaster. "
   ]
  },
  {
   "cell_type": "code",
   "execution_count": 165,
   "metadata": {
    "collapsed": false
   },
   "outputs": [
    {
     "data": {
      "text/plain": [
       "<matplotlib.text.Text at 0x202e9e50>"
      ]
     },
     "execution_count": 165,
     "metadata": {},
     "output_type": "execute_result"
    },
    {
     "data": {
      "image/png": "[encoded data removed]",
      "text/plain": [
       "<matplotlib.figure.Figure at 0x202ecab0>"
      ]
     },
     "metadata": {},
     "output_type": "display_data"
    }
   ],
   "source": [
    "'''\n",
    "Return a data frame of counts\n",
    "'''\n",
    "def getCount(df, filter=\"\"):\n",
    "    if filter:\n",
    "        return df.groupby(filter)['PassengerId'].size()\n",
    "    else:\n",
    "        return df['PassengerId'].count()\n",
    "    \n",
    "'''\n",
    "Returns the survival percentage\n",
    "'''\n",
    "def survivalRate(df1, df2, filter=\"\"):\n",
    "    return (getCount(df1,filter)/getCount(df2,filter)*100) \\\n",
    "        .reset_index(name=\"survivalRate\")\n",
    "\n",
    "# import the required modules\n",
    "%matplotlib inline\n",
    "import matplotlib.pyplot as plt\n",
    "from matplotlib import gridspec\n",
    "import seaborn as sns\n",
    "\n",
    "# bar plots of survival percentage\n",
    "factors = ['Sex', 'Pclass', 'AgeGroup']\n",
    "labels = ['Gender', 'Class', 'Age Group']\n",
    "ageGroups = ['child', 'youngeradult', 'adult']\n",
    "fig, axs = plt.subplots(1,3,figsize=(10,4))\n",
    "for i, f in enumerate(factors):\n",
    "    survival_rate = survivalRate(survivors, passengers, f)\n",
    "    if (i==2):\n",
    "        g = sns.barplot(x=f,y='survivalRate',data=survival_rate, \\\n",
    "                        ax=axs[i], order=ageGroups)\n",
    "    else:\n",
    "        g = sns.barplot(x=f,y='survivalRate',data=survival_rate, \\\n",
    "                        ax=axs[i])\n",
    "    g.set(xlabel=labels[i], ylabel='')\n",
    "axs.flat[0].set_ylabel('Survival Rate')\n"
   ]
  },
  {
   "cell_type": "markdown",
   "metadata": {},
   "source": [
    "Considering all three factors, it can be observed that older male passengers on the second class have the most casualties."
   ]
  },
  {
   "cell_type": "code",
   "execution_count": 164,
   "metadata": {
    "collapsed": false,
    "scrolled": true
   },
   "outputs": [
    {
     "data": {
      "text/plain": [
       "<seaborn.axisgrid.FacetGrid at 0x203919d0>"
      ]
     },
     "execution_count": 164,
     "metadata": {},
     "output_type": "execute_result"
    },
    {
     "data": {
      "image/png": "[encoded data removed]",
      "text/plain": [
       "<matplotlib.figure.Figure at 0x203cd790>"
      ]
     },
     "metadata": {},
     "output_type": "display_data"
    }
   ],
   "source": [
    "# compute the survival rate but this time the threee factors are considered\n",
    "survival_rate = survivalRate(survivors, passengers, \\\n",
    "                             ['Sex','Pclass','AgeGroup'])\n",
    "\n",
    "sns.factorplot(x='Pclass', y='survivalRate', col='AgeGroup', row='Sex', \\\n",
    "           data=survival_rate, \\\n",
    "           kind=\"bar\", col_order=ageGroups)"
   ]
  }
 ],
 "metadata": {
  "celltoolbar": "Raw Cell Format",
  "kernelspec": {
   "display_name": "Python 2",
   "language": "python",
   "name": "python2"
  },
  "language_info": {
   "codemirror_mode": {
    "name": "ipython",
    "version": 2
   },
   "file_extension": ".py",
   "mimetype": "text/x-python",
   "name": "python",
   "nbconvert_exporter": "python",
   "pygments_lexer": "ipython2",
   "version": "2.7.11"
  }
 },
 "nbformat": 4,
 "nbformat_minor": 0
}
